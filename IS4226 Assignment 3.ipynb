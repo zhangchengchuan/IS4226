{
 "cells": [
  {
   "cell_type": "code",
   "execution_count": 14,
   "metadata": {},
   "outputs": [],
   "source": [
    "from ta import add_all_ta_features\n",
    "import yfinance as yf\n",
    "import pandas as pd\n"
   ]
  },
  {
   "cell_type": "code",
   "execution_count": 15,
   "metadata": {},
   "outputs": [],
   "source": [
    "\n",
    "def get_technicals(stock, start, end):\n",
    "    df = pd.DataFrame()\n",
    "    df['open'] = yf.Ticker(stock).history(start=start, end=end).Open\n",
    "    df['close'] = yf.Ticker(stock).history(start=start, end=end).Close\n",
    "    df['high'] = yf.Ticker(stock).history(start=start, end=end).High\n",
    "    df['low'] = yf.Ticker(stock).history(start=start, end=end).Low\n",
    "    df['volume'] = yf.Ticker(stock).history(start=start, end=end).Volume\n",
    "    df.index = df.index.tz_localize(None)\n",
    "\n",
    "    df = add_all_ta_features(df,open='open', high='high', low='low',close='close', volume='volume')\n",
    "    df['SMA10'] = df['close'].rolling(window=10).mean()\n",
    "    df['SMA20'] = df['close'].rolling(window=20).mean()\n",
    "    df['SMA50'] = df['close'].rolling(window=50).mean()\n",
    "    df.dropna()\n",
    "    print(df[['volatility_atr', 'momentum_rsi', 'SMA20', 'SMA10', 'SMA50']].iloc[-1])\n"
   ]
  },
  {
   "cell_type": "code",
   "execution_count": 16,
   "metadata": {},
   "outputs": [
    {
     "name": "stdout",
     "output_type": "stream",
     "text": [
      "volatility_atr      4.149825\n",
      "momentum_rsi       37.473172\n",
      "SMA20             136.771473\n",
      "SMA10             130.874627\n",
      "SMA50             142.414400\n",
      "Name: 2022-12-30 00:00:00, dtype: float64\n"
     ]
    },
    {
     "name": "stderr",
     "output_type": "stream",
     "text": [
      "/Users/chengchuan/Coding/Data Science/datascivenv/lib/python3.11/site-packages/ta/trend.py:780: RuntimeWarning: invalid value encountered in scalar divide\n",
      "  dip[idx] = 100 * (self._dip[idx] / value)\n",
      "/Users/chengchuan/Coding/Data Science/datascivenv/lib/python3.11/site-packages/ta/trend.py:785: RuntimeWarning: invalid value encountered in scalar divide\n",
      "  din[idx] = 100 * (self._din[idx] / value)\n"
     ]
    }
   ],
   "source": [
    "\n",
    "start_date = \"2022-01-01\"\n",
    "end_date = \"2022-12-31\"\n",
    "get_technicals(\"AAPL\", start=start_date, end=end_date)"
   ]
  },
  {
   "cell_type": "code",
   "execution_count": null,
   "metadata": {},
   "outputs": [],
   "source": []
  }
 ],
 "metadata": {
  "kernelspec": {
   "display_name": "datascivenv",
   "language": "python",
   "name": "datascivenv"
  },
  "language_info": {
   "codemirror_mode": {
    "name": "ipython",
    "version": 3
   },
   "file_extension": ".py",
   "mimetype": "text/x-python",
   "name": "python",
   "nbconvert_exporter": "python",
   "pygments_lexer": "ipython3",
   "version": "3.11.4"
  },
  "orig_nbformat": 4
 },
 "nbformat": 4,
 "nbformat_minor": 2
}
